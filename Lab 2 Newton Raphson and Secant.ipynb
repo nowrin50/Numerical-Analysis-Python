{
  "nbformat": 4,
  "nbformat_minor": 0,
  "metadata": {
    "colab": {
      "provenance": []
    },
    "kernelspec": {
      "name": "python3",
      "display_name": "Python 3"
    },
    "language_info": {
      "name": "python"
    }
  },
  "cells": [
    {
      "cell_type": "markdown",
      "source": [
        "Lets say we have an equation  f(x) = x<sup>3</sup>-2x<sup>2</sup>+4 , then we will have a list with the following numbers where it is a list of coefficients."
      ],
      "metadata": {
        "id": "vHdjRDKGFvJs"
      }
    },
    {
      "cell_type": "code",
      "execution_count": null,
      "metadata": {
        "id": "ncT8DcfJuaSn"
      },
      "outputs": [],
      "source": [
        "f = [1,-2,0,4]"
      ]
    },
    {
      "cell_type": "markdown",
      "source": [
        "The derivative of f(x) will be 3x<sup>2</sup>-4x"
      ],
      "metadata": {
        "id": "t6I_qHQnGTj9"
      }
    },
    {
      "cell_type": "code",
      "source": [
        "df = [3,-4,0]"
      ],
      "metadata": {
        "id": "A2TkgO2Iue6Y"
      },
      "execution_count": null,
      "outputs": []
    },
    {
      "cell_type": "markdown",
      "source": [
        "This func function works like f(x). As for the input, we will be giving the equation which is \"f\" and the x value."
      ],
      "metadata": {
        "id": "V1Hx1RooJW7M"
      }
    },
    {
      "cell_type": "code",
      "source": [
        "def func(f, x):\n",
        "    sum=0\n",
        "    temp=0\n",
        "    for i in range(len(f)):\n",
        "        sum+=f[i]*(x**(len(f)-1-temp))\n",
        "        temp+=1\n",
        "\n",
        "    return sum\n"
      ],
      "metadata": {
        "id": "1pB7V0xru0sK"
      },
      "execution_count": 1,
      "outputs": []
    },
    {
      "cell_type": "markdown",
      "source": [
        "Complete the newton raphson method."
      ],
      "metadata": {
        "id": "jb9HlgRNKajc"
      }
    },
    {
      "cell_type": "code",
      "source": [
        "def newton_raphson(f, df, x0, tol):\n",
        "    # f = the list which holds the coefficients of the equation\n",
        "    # df =  the list which holds the coefficients of the derived equation\n",
        "    # x0 = starting point\n",
        "    # tol = tolerace level\n",
        "\n",
        "    while True:\n",
        "      x_new=x0 - func(f,x0)/func(df,x0)\n",
        "      if(abs((x0 - x_new) / x_new) * 100<tol):\n",
        "        return x0\n",
        "      x0=x_new\n",
        "\n",
        "      # Use the equation x_new = x_old - f(x) / df(x), to get the updated value\n",
        "      # Check the tolerance level with the equation relative_error = abs((x_old - x_new) / x_new) * 100\n",
        "      # If the relative error is below tolerance level, return the x value.\n",
        "      # Update the x_old value"
      ],
      "metadata": {
        "id": "QuJYmQ25u0uQ"
      },
      "execution_count": null,
      "outputs": []
    },
    {
      "cell_type": "code",
      "source": [
        "result = newton_raphson(f, df, 5, 0.00001)"
      ],
      "metadata": {
        "id": "CeQGJhTE1tzI"
      },
      "execution_count": null,
      "outputs": []
    },
    {
      "cell_type": "code",
      "source": [
        "func(f, result)"
      ],
      "metadata": {
        "colab": {
          "base_uri": "https://localhost:8080/"
        },
        "id": "Ut5OXJoV1w03",
        "outputId": "90b79dee-dd5e-489a-b463-4287f82cabed"
      },
      "execution_count": null,
      "outputs": [
        {
          "output_type": "execute_result",
          "data": {
            "text/plain": [
              "-3.311129148642067e-11"
            ]
          },
          "metadata": {},
          "execution_count": 15
        }
      ]
    },
    {
      "cell_type": "code",
      "source": [
        "def secant(f, x_current, x_prev,  tol):\n",
        "  # f = the list which holds the coefficients of the equation\n",
        "  # x_current = 1st intial point\n",
        "  # x_prev = 2nd intial point\n",
        "  # tol = tolerace level\n",
        "\n",
        "  while(True):\n",
        "       x_next= x_current - (func(f,x_current) * (x_current - x_prev)) / (func(f,x_current) - func(f,x_prev))\n",
        "       relative_error = abs((x_next - x_current) / x_next) * 100\n",
        "       if(relative_error<tol):\n",
        "        return x_next\n",
        "       x_current=x_next\n",
        "       x_next=x_prev\n",
        "\n",
        "\n",
        "\n",
        "    # Use the equation x_next = x_current - (f(x_current) * (x_current - x_prev)) / (f(x_current) - f(x_prev)), to get the updated value\n",
        "    # Check the tolerance level with the equation relative_error = abs((x_next - x_current) / x_next) * 100\n",
        "    # If the relative error is below tolerance level, return the x_next value.\n",
        "    # Update the x_prev and x_current value"
      ],
      "metadata": {
        "id": "JKAHeDcK1IRv"
      },
      "execution_count": null,
      "outputs": []
    },
    {
      "cell_type": "code",
      "source": [
        "# Use the equation with the tolerance level of 0.0001\n",
        "result = secant(f, 5, 7,  0.00001)"
      ],
      "metadata": {
        "id": "FUCqcVpi1IRv"
      },
      "execution_count": null,
      "outputs": []
    },
    {
      "cell_type": "code",
      "source": [
        "# check if we get f(x) = 0\n",
        "func(f,result)"
      ],
      "metadata": {
        "colab": {
          "base_uri": "https://localhost:8080/"
        },
        "outputId": "a50dff92-ec1e-459b-f085-05f6738f595e",
        "id": "izV4WCO-1IRv"
      },
      "execution_count": null,
      "outputs": [
        {
          "output_type": "execute_result",
          "data": {
            "text/plain": [
              "2.4404411025358286e-06"
            ]
          },
          "metadata": {},
          "execution_count": 28
        }
      ]
    }
  ]
}