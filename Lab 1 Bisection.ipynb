{
  "cells": [
    {
      "cell_type": "markdown",
      "metadata": {
        "id": "SChhcgB_Tkv9"
      },
      "source": [
        "# **Lab 1 : Bisection Method**<br>\n",
        "\n",
        "The bisection method (also known as the binary search method) is a method of finding roots of a non-linear function. The assumption here is that the function is real continuous, otherwise the bisection method will not work. It is based on the **Intermediate Value Theorem** which states that if f(x) is a real continuous function, and if f(x<sub>l</sub>)f(x<sub>u</sub>)\\< 0 then there must be a root between x<sub>l</sub> and x<sub>u</sub>.\n",
        "\n",
        "In today's lab, we will be implementing the bisection method in python. We will be considering the function f(x) as an array of coefficients, for instance if we want to have f(x) = x<sup>3</sup>-3x<sup>2</sup>+6, then in python we will create an array as follows:\n"
      ]
    },
    {
      "cell_type": "code",
      "execution_count": null,
      "metadata": {
        "colab": {
          "base_uri": "https://localhost:8080/"
        },
        "id": "rZ4tGQSjTvYF",
        "outputId": "b0160c5b-a88d-40c3-ba79-55a096bb23bd"
      },
      "outputs": [
        {
          "output_type": "execute_result",
          "data": {
            "text/plain": [
              "[1, -3, 0, 6]"
            ]
          },
          "metadata": {},
          "execution_count": 13
        }
      ],
      "source": [
        "f = [1,-3,0,6]\n",
        "f"
      ]
    },
    {
      "cell_type": "code",
      "execution_count": null,
      "metadata": {
        "id": "sLhf8VKn2bzM",
        "outputId": "666325f4-a270-4ba0-e857-a9edef722869",
        "colab": {
          "base_uri": "https://localhost:8080/"
        }
      },
      "outputs": [
        {
          "output_type": "execute_result",
          "data": {
            "text/plain": [
              "4"
            ]
          },
          "metadata": {},
          "execution_count": 4
        }
      ],
      "source": [
        "len(f)"
      ]
    },
    {
      "cell_type": "markdown",
      "metadata": {
        "id": "E4vSfOrrTwlc"
      },
      "source": [
        "Next, you will need to create a user-defined function as follows\n",
        "\n",
        "```\n",
        "bisection_method(f, xl, xu, epsilon)\n",
        "```\n",
        "This function will return the root of the equation represented by the array f and in case it does not reach the root exactly then it will return the close enough value to the root that has an absolute relative approximate error of at most epsilon (%).\n",
        "\n",
        "In python, functions are defined as follows"
      ]
    },
    {
      "cell_type": "code",
      "execution_count": null,
      "metadata": {
        "colab": {
          "base_uri": "https://localhost:8080/"
        },
        "id": "aUR8kbzqT0AM",
        "outputId": "f324b4b8-d674-4972-f763-ca7e4971abd4"
      },
      "outputs": [
        {
          "output_type": "stream",
          "name": "stdout",
          "text": [
            "6\n"
          ]
        }
      ],
      "source": [
        "#Execute this cell to test how the function works\n",
        "\n",
        "def func(x,f):\n",
        "    result=0\n",
        "    start=len(f)-1\n",
        "    for i in range(len(f)):\n",
        "        result+= f[start]* (x**i)\n",
        "        #print(result)\n",
        "        start-=1\n",
        "    return result\n",
        "  #result = f[0]*x^3+f[1]*x^2+f[2]*x+f[3]*1\n",
        "\n",
        "\n",
        "print(func(3,f))"
      ]
    },
    {
      "cell_type": "markdown",
      "metadata": {
        "id": "cCGekrFWT3Lc"
      },
      "source": [
        "Note that in python, we do not need to specify the data type for parameters nor any return type for the function as these are implicitly determined. Also, note the colon (:) after the function signature. Indentation matters in python, since the consecutive codes having same indentation will be considered as a single block."
      ]
    },
    {
      "cell_type": "markdown",
      "metadata": {
        "id": "3sOLCbqJT7q0"
      },
      "source": [
        "##Task 1\n",
        "Implement the function for bisection method following the requirements set earlier. Write a script after the function to call it and test whether it is working correctly."
      ]
    },
    {
      "cell_type": "code",
      "execution_count": null,
      "metadata": {
        "id": "oqqS4bzj2bzO"
      },
      "outputs": [],
      "source": [
        "rae=[]\n",
        "iteration=[]\n",
        "flag=0\n"
      ]
    },
    {
      "cell_type": "code",
      "source": [],
      "metadata": {
        "id": "yiz-cipL2XOd"
      },
      "execution_count": null,
      "outputs": []
    },
    {
      "cell_type": "code",
      "execution_count": null,
      "metadata": {
        "id": "f6HGUB7nT9k9"
      },
      "outputs": [],
      "source": [
        "#Complete the following function\n",
        "def bisection_method(f, xl, xu, epsilon):\n",
        "  xmPrev=0\n",
        "  num=0\n",
        "  while(1):\n",
        "    xm=(xl+xu)/2\n",
        "    if(func(xl,f)*func(xm,f)<0):\n",
        "       xl=xl\n",
        "       xu=xm\n",
        "    elif(func(xl,f)*func(xm,f)>0):\n",
        "       xl=xm\n",
        "       xu=xu\n",
        "    elif(func(xl,f)*func(xm,f)==0):\n",
        "       return xm\n",
        "\n",
        "    if(num>0):\n",
        "        if((xm - xmPrev)/xm < 0  ):\n",
        "          val = ((xm - xmPrev)/xm )* -1\n",
        "          if(val < epsilon):\n",
        "            return xm\n",
        "        else:\n",
        "          val = ((xm - xmPrev)/xm )*1\n",
        "          if(val < epsilon):\n",
        "            return xm\n",
        "\n",
        "    num+=1\n",
        "    xmPrev = xm\n",
        "\n",
        "\n",
        "\n"
      ]
    },
    {
      "cell_type": "code",
      "execution_count": null,
      "metadata": {
        "id": "mgYDul082bzP",
        "outputId": "dd798db1-da16-4d02-db81-52d470ba6384",
        "colab": {
          "base_uri": "https://localhost:8080/"
        }
      },
      "outputs": [
        {
          "output_type": "execute_result",
          "data": {
            "text/plain": [
              "-1.20703125"
            ]
          },
          "metadata": {},
          "execution_count": 16
        }
      ],
      "source": [
        "bisection_method(f,-3,3,.01)"
      ]
    },
    {
      "cell_type": "code",
      "source": [
        "func(-1.20703125, f)"
      ],
      "metadata": {
        "id": "xgtEsfJO5qBk",
        "outputId": "4ab4fe0b-5ed6-4b87-b89d-6c1f455fd249",
        "colab": {
          "base_uri": "https://localhost:8080/"
        }
      },
      "execution_count": null,
      "outputs": [
        {
          "output_type": "execute_result",
          "data": {
            "text/plain": [
              "-0.12932664155960083"
            ]
          },
          "metadata": {},
          "execution_count": 17
        }
      ]
    },
    {
      "cell_type": "raw",
      "metadata": {
        "id": "GvqB9yAR2bzQ"
      },
      "source": []
    },
    {
      "cell_type": "markdown",
      "metadata": {
        "id": "Z6sc0ZNUUGNk"
      },
      "source": [
        "## Task 2\n",
        "Generate a plot of **iteration vs relative approx error (%)** for the bisection method function you implemented earlier."
      ]
    },
    {
      "cell_type": "code",
      "execution_count": null,
      "metadata": {
        "id": "Zhc7Fyng2bzR"
      },
      "outputs": [],
      "source": []
    }
  ],
  "metadata": {
    "colab": {
      "provenance": []
    },
    "kernelspec": {
      "display_name": "Python 3",
      "language": "python",
      "name": "python3"
    },
    "language_info": {
      "codemirror_mode": {
        "name": "ipython",
        "version": 3
      },
      "file_extension": ".py",
      "mimetype": "text/x-python",
      "name": "python",
      "nbconvert_exporter": "python",
      "pygments_lexer": "ipython3",
      "version": "3.7.9"
    }
  },
  "nbformat": 4,
  "nbformat_minor": 0
}