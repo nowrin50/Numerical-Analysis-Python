{
  "nbformat": 4,
  "nbformat_minor": 0,
  "metadata": {
    "colab": {
      "provenance": []
    },
    "kernelspec": {
      "name": "python3",
      "display_name": "Python 3"
    },
    "language_info": {
      "name": "python"
    }
  },
  "cells": [
    {
      "cell_type": "code",
      "execution_count": 1,
      "metadata": {
        "colab": {
          "base_uri": "https://localhost:8080/",
          "height": 0
        },
        "id": "9_oy0poFnqRd",
        "outputId": "c1bd4789-64b7-43be-a81b-194dfcc6d04b"
      },
      "outputs": [
        {
          "output_type": "stream",
          "name": "stdout",
          "text": [
            "Hello, Python!\n"
          ]
        }
      ],
      "source": [
        "print(\"Hello, Python!\")"
      ]
    },
    {
      "cell_type": "code",
      "source": [
        "sum_result = sum(range(1, 11))\n",
        "print(sum_result)"
      ],
      "metadata": {
        "colab": {
          "base_uri": "https://localhost:8080/",
          "height": 0
        },
        "id": "nESrfznZqVRy",
        "outputId": "5b02a02d-7449-457d-daa0-8b45c61b85b7"
      },
      "execution_count": 2,
      "outputs": [
        {
          "output_type": "stream",
          "name": "stdout",
          "text": [
            "55\n"
          ]
        }
      ]
    },
    {
      "cell_type": "code",
      "source": [
        "def factorial(n):\n",
        "    if n == 0 or n == 1:\n",
        "        return 1\n",
        "    else:\n",
        "        return n * factorial(n-1)\n",
        "\n",
        "number = 5\n",
        "result = factorial(number)\n",
        "print(f\"The factorial of {number} is: {result}\")"
      ],
      "metadata": {
        "colab": {
          "base_uri": "https://localhost:8080/",
          "height": 0
        },
        "id": "qRN2gvNqqgBG",
        "outputId": "04167a2e-f021-4d57-9e97-861808ea7ef2"
      },
      "execution_count": 3,
      "outputs": [
        {
          "output_type": "stream",
          "name": "stdout",
          "text": [
            "The factorial of 5 is: 120\n"
          ]
        }
      ]
    },
    {
      "cell_type": "code",
      "source": [
        "def is_palindrome(word):\n",
        "    cleaned_word = ''.join(char.lower() for char in word if char.isalnum())\n",
        "    return cleaned_word == cleaned_word[::-1]\n",
        "\n",
        "word_to_check = \"Nowrin\"\n",
        "if is_palindrome(word_to_check):\n",
        "    print(f\"{word_to_check} is a palindrome.\")\n",
        "else:\n",
        "    print(f\"{word_to_check} is not a palindrome.\")\n"
      ],
      "metadata": {
        "colab": {
          "base_uri": "https://localhost:8080/",
          "height": 0
        },
        "id": "hCezZdBeqsSH",
        "outputId": "f701de37-0c52-43a9-e672-ae59c8e1dafa"
      },
      "execution_count": 5,
      "outputs": [
        {
          "output_type": "stream",
          "name": "stdout",
          "text": [
            "Nowrin is not a palindrome.\n"
          ]
        }
      ]
    }
  ]
}